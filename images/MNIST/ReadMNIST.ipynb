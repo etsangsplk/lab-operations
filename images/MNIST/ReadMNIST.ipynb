{
 "cells": [
  {
   "cell_type": "code",
   "execution_count": 11,
   "metadata": {
    "collapsed": true
   },
   "outputs": [],
   "source": [
    "cd('/Users/yardenc/Documents/Experiments/Code and Hardware Dev/GitHub/lab-operations/images/MNIST');\n",
    "ImagesetFile1 = 'train-images-idx3-ubyte';\n",
    "fid = fopen(ImagesetFile1,'r');\n",
    "% read header content\n",
    "%    32 bit integer  0x00000803(2051) magic number \n",
    "%    32 bit integer  60000            number of images \n",
    "%    32 bit integer  28               number of rows \n",
    "%    32 bit integer  28               number of columns \n",
    "magicnumber = fread(fid,1,'*int32');\n",
    "num_images = fread(fid,1,'*int32');\n",
    "num_rows = fread(fid,1,'*int32');\n",
    "num_columns = fread(fid,1,'*int32');\n",
    "\n",
    "cnt = 1;\n",
    "while ~feof(fid)\n",
    "    try\n",
    "        training_images{cnt} = fread(fid,[28,28],'uint8');\n",
    "        cnt = cnt+1;\n",
    "        catch em\n",
    "    end\n",
    "end\n",
    "training_images = training_images(1:60000);\n",
    "save training_images training_images;\n",
    "fclose(fid);\n"
   ]
  },
  {
   "cell_type": "code",
   "execution_count": null,
   "metadata": {
    "collapsed": true
   },
   "outputs": [],
   "source": []
  },
  {
   "cell_type": "code",
   "execution_count": 9,
   "metadata": {
    "collapsed": false
   },
   "outputs": [],
   "source": [
    "ImagesetFile2 = 't10k-images-idx3-ubyte';\n",
    "fid = fopen(ImagesetFile2,'r');\n",
    "% read header content\n",
    "%    32 bit integer  0x00000803(2051) magic number \n",
    "%    32 bit integer  60000            number of images \n",
    "%    32 bit integer  28               number of rows \n",
    "%    32 bit integer  28               number of columns \n",
    "magicnumber = fread(fid,1,'*int32');\n",
    "num_images = fread(fid,1,'*int32');\n",
    "num_rows = fread(fid,1,'*int32');\n",
    "num_columns = fread(fid,1,'*int32');\n",
    "cnt = 1;\n",
    "test_images = {};\n",
    "while ~feof(fid)\n",
    "    try\n",
    "        test_images{cnt} = fread(fid,[28,28],'uint8');\n",
    "        cnt = cnt+1;\n",
    "    catch em\n",
    "            '9';\n",
    "            \n",
    "    end\n",
    "end\n",
    "test_images = test_images(1:10000);\n",
    "save test_images test_images;\n",
    "fclose(fid);"
   ]
  },
  {
   "cell_type": "code",
   "execution_count": 10,
   "metadata": {
    "collapsed": false
   },
   "outputs": [
    {
     "name": "stdout",
     "output_type": "stream",
     "text": [
      "em = \n",
      "\n",
      "  MException with properties:\n",
      "\n",
      "    identifier: 'MATLAB:cellAssToNonCell'\n",
      "       message: 'Cell contents assignment to a non-cell array object.'\n",
      "         cause: {}\n",
      "         stack: [2x1 struct]\n"
     ]
    }
   ],
   "source": [
    "em"
   ]
  },
  {
   "cell_type": "code",
   "execution_count": 4,
   "metadata": {
    "collapsed": false
   },
   "outputs": [
    {
     "name": "stdout",
     "output_type": "stream",
     "text": [
      "cnt =\n",
      "\n",
      "       10002\n"
     ]
    }
   ],
   "source": [
    "cnt"
   ]
  },
  {
   "cell_type": "code",
   "execution_count": null,
   "metadata": {
    "collapsed": true
   },
   "outputs": [],
   "source": []
  }
 ],
 "metadata": {
  "kernelspec": {
   "display_name": "Matlab",
   "language": "matlab",
   "name": "matlab"
  },
  "language_info": {
   "codemirror_mode": "octave",
   "file_extension": ".m",
   "help_links": [
    {
     "text": "MetaKernel Magics",
     "url": "https://github.com/calysto/metakernel/blob/master/metakernel/magics/README.md"
    }
   ],
   "mimetype": "text/x-matlab",
   "name": "matlab",
   "version": "0.8.0"
  }
 },
 "nbformat": 4,
 "nbformat_minor": 0
}
